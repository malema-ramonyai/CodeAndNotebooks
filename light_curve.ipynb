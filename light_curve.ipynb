{
 "metadata": {
  "language_info": {
   "codemirror_mode": {
    "name": "ipython",
    "version": 3
   },
   "file_extension": ".py",
   "mimetype": "text/x-python",
   "name": "python",
   "nbconvert_exporter": "python",
   "pygments_lexer": "ipython3",
   "version": "3.8.5-final"
  },
  "orig_nbformat": 2,
  "kernelspec": {
   "name": "python3",
   "display_name": "Python 3",
   "language": "python"
  }
 },
 "nbformat": 4,
 "nbformat_minor": 2,
 "cells": [
  {
   "cell_type": "code",
   "execution_count": 1,
   "metadata": {},
   "outputs": [],
   "source": [
    "import numpy as numpy\n",
    "import matplotlib.pyplot as plt \n",
    "import pandas as pd \n"
   ]
  },
  {
   "cell_type": "code",
   "execution_count": 8,
   "metadata": {},
   "outputs": [],
   "source": [
    "import feets.preprocess\n",
    "from scipy import stats\n",
    "import numpy as np \n",
    "import pandas as pd \n",
    "import matplotlib.pyplot as plt\n",
    "import matplotlib\n",
    "import feets\n",
    "from ipykernel import kernelapp as app\n",
    "import os\n",
    "\n",
    "\n",
    "\n",
    "script_dir = os.path.dirname('Results/')\n",
    "results_dir = os.path.join(script_dir, 'Images/')\n",
    "\n",
    "if not os.path.isdir(results_dir):\n",
    "    os.makedirs(results_dir)"
   ]
  },
  {
   "cell_type": "code",
   "execution_count": 9,
   "metadata": {},
   "outputs": [
    {
     "output_type": "execute_result",
     "data": {
      "text/plain": [
       "                   CRTS_ID       RA       Dec      UT_Date    Mag  \\\n",
       "0  CSS120828:000010-215515  0.04323 -21.92087  20120828.38  17.02   \n",
       "1  CSS100910:000025+332543  0.10280  33.42861  20100910.42  15.85   \n",
       "2  CSS101127:000130+050624  0.37695   5.10657  20101127.21  15.68   \n",
       "3  CSS160709:000132+211336  0.38474  21.22680  20160709.45  17.21   \n",
       "4  CSS110926:000156+065236  0.48205   6.87665  20110926.30  19.35   \n",
       "\n",
       "            CSS_images SDSS  Others Followed        Last     LC   FC  \\\n",
       "0  1208280210014111715   no   11171       no  2016-10-22  11171  yes   \n",
       "1  1009101320014148188  yes   14818       no  2016-11-05  14818  yes   \n",
       "2  1011271040014129121   no   12912      yes  2016-11-06  12912  yes   \n",
       "3  1607091210014124380  yes   12438       no  2016-11-05  12438  yes   \n",
       "4  1109261070014122864   no   12286      yes  2016-11-06  12286  yes   \n",
       "\n",
       "                           Classification  \n",
       "0                                     Var  \n",
       "1                        CV SDSS mag 20,5  \n",
       "2                             CV mag 20,0  \n",
       "3                Blazar CRATES_J0001+2113  \n",
       "4  SN 2011hl SDSS mag 15,7 2MASX_00015920  "
      ],
      "text/html": "<div>\n<style scoped>\n    .dataframe tbody tr th:only-of-type {\n        vertical-align: middle;\n    }\n\n    .dataframe tbody tr th {\n        vertical-align: top;\n    }\n\n    .dataframe thead th {\n        text-align: right;\n    }\n</style>\n<table border=\"1\" class=\"dataframe\">\n  <thead>\n    <tr style=\"text-align: right;\">\n      <th></th>\n      <th>CRTS_ID</th>\n      <th>RA</th>\n      <th>Dec</th>\n      <th>UT_Date</th>\n      <th>Mag</th>\n      <th>CSS_images</th>\n      <th>SDSS</th>\n      <th>Others</th>\n      <th>Followed</th>\n      <th>Last</th>\n      <th>LC</th>\n      <th>FC</th>\n      <th>Classification</th>\n    </tr>\n  </thead>\n  <tbody>\n    <tr>\n      <th>0</th>\n      <td>CSS120828:000010-215515</td>\n      <td>0.04323</td>\n      <td>-21.92087</td>\n      <td>20120828.38</td>\n      <td>17.02</td>\n      <td>1208280210014111715</td>\n      <td>no</td>\n      <td>11171</td>\n      <td>no</td>\n      <td>2016-10-22</td>\n      <td>11171</td>\n      <td>yes</td>\n      <td>Var</td>\n    </tr>\n    <tr>\n      <th>1</th>\n      <td>CSS100910:000025+332543</td>\n      <td>0.10280</td>\n      <td>33.42861</td>\n      <td>20100910.42</td>\n      <td>15.85</td>\n      <td>1009101320014148188</td>\n      <td>yes</td>\n      <td>14818</td>\n      <td>no</td>\n      <td>2016-11-05</td>\n      <td>14818</td>\n      <td>yes</td>\n      <td>CV SDSS mag 20,5</td>\n    </tr>\n    <tr>\n      <th>2</th>\n      <td>CSS101127:000130+050624</td>\n      <td>0.37695</td>\n      <td>5.10657</td>\n      <td>20101127.21</td>\n      <td>15.68</td>\n      <td>1011271040014129121</td>\n      <td>no</td>\n      <td>12912</td>\n      <td>yes</td>\n      <td>2016-11-06</td>\n      <td>12912</td>\n      <td>yes</td>\n      <td>CV mag 20,0</td>\n    </tr>\n    <tr>\n      <th>3</th>\n      <td>CSS160709:000132+211336</td>\n      <td>0.38474</td>\n      <td>21.22680</td>\n      <td>20160709.45</td>\n      <td>17.21</td>\n      <td>1607091210014124380</td>\n      <td>yes</td>\n      <td>12438</td>\n      <td>no</td>\n      <td>2016-11-05</td>\n      <td>12438</td>\n      <td>yes</td>\n      <td>Blazar CRATES_J0001+2113</td>\n    </tr>\n    <tr>\n      <th>4</th>\n      <td>CSS110926:000156+065236</td>\n      <td>0.48205</td>\n      <td>6.87665</td>\n      <td>20110926.30</td>\n      <td>19.35</td>\n      <td>1109261070014122864</td>\n      <td>no</td>\n      <td>12286</td>\n      <td>yes</td>\n      <td>2016-11-06</td>\n      <td>12286</td>\n      <td>yes</td>\n      <td>SN 2011hl SDSS mag 15,7 2MASX_00015920</td>\n    </tr>\n  </tbody>\n</table>\n</div>"
     },
     "metadata": {},
     "execution_count": 9
    }
   ],
   "source": [
    "url = \"https://raw.githubusercontent.com/MachineLearningUniandes/MANTRA/master/data/lightcurves/transient_lightcurves.csv\"\n",
    "url1 = 'https://raw.githubusercontent.com/MachineLearningUniandes/MANTRA/master/data/lightcurves/transient_labels.csv'\n",
    "url2 = 'https://raw.githubusercontent.com/MachineLearningUniandes/MANTRA/master/data/lightcurves/transient_info.txt'\n",
    "transient_lc = pd.read_csv(url)\n",
    "transient_labels = pd.read_csv(url1)\n",
    "transient_info = pd.read_table(url2,skiprows=1,names=['CRTS_ID' ,'RA' ,'Dec','UT_Date','Mag','CSS_images' ,'SDSS',\n",
    "                                                      'Others' ,'Followed' ,'Last','LC','FC','Classification'])\n",
    "\n",
    "transient_info.head()"
   ]
  },
  {
   "cell_type": "code",
   "execution_count": 12,
   "metadata": {},
   "outputs": [
    {
     "output_type": "execute_result",
     "data": {
      "text/plain": [
       "0         TranID1409030010044114444\n",
       "1         TranID1409030010044114444\n",
       "2         TranID1409030010044114444\n",
       "3         TranID1409030010044114444\n",
       "4         TranID1409030010044114444\n",
       "                    ...            \n",
       "440464    TranID1209190181234125108\n",
       "440465    TranID1209190181234125108\n",
       "440466    TranID1209190181234125108\n",
       "440467    TranID1209190181234125108\n",
       "440468    TranID1209190181234125108\n",
       "Name: ID, Length: 440469, dtype: object"
      ]
     },
     "metadata": {},
     "execution_count": 12
    }
   ],
   "source": [
    "transient_lc.head()\n",
    "\n",
    "transient_lc.ID"
   ]
  },
  {
   "cell_type": "code",
   "execution_count": 15,
   "metadata": {},
   "outputs": [
    {
     "output_type": "execute_result",
     "data": {
      "text/plain": [
       "                          ID  observation_id      Mag    Magerr           MJD\n",
       "0  TranID1409030010044114444               0  18.8765  0.166417  53766.089871\n",
       "1  TranID1409030010044114444               1  20.0519  0.281733  53990.458866\n",
       "2  TranID1409030010044114444               2  20.2199  0.295764  53996.286004\n",
       "3  TranID1409030010044114444               3  21.1192  0.495390  54385.205789\n",
       "4  TranID1409030010044114444               4  19.3289  0.195002  54355.282285\n",
       "5  TranID1409030010044114444               5  20.5594  0.366624  54715.323492\n",
       "6  TranID1409030010044114444               6  20.3022  0.318527  54715.329950\n",
       "7  TranID1409030010044114444               7  21.0141  0.488018  55153.141345\n",
       "8  TranID1409030010044114444               8  19.8363  0.252095  55893.177949\n",
       "9  TranID1409030010044114444               9  20.9989  0.487018  56296.081057"
      ],
      "text/html": "<div>\n<style scoped>\n    .dataframe tbody tr th:only-of-type {\n        vertical-align: middle;\n    }\n\n    .dataframe tbody tr th {\n        vertical-align: top;\n    }\n\n    .dataframe thead th {\n        text-align: right;\n    }\n</style>\n<table border=\"1\" class=\"dataframe\">\n  <thead>\n    <tr style=\"text-align: right;\">\n      <th></th>\n      <th>ID</th>\n      <th>observation_id</th>\n      <th>Mag</th>\n      <th>Magerr</th>\n      <th>MJD</th>\n    </tr>\n  </thead>\n  <tbody>\n    <tr>\n      <th>0</th>\n      <td>TranID1409030010044114444</td>\n      <td>0</td>\n      <td>18.8765</td>\n      <td>0.166417</td>\n      <td>53766.089871</td>\n    </tr>\n    <tr>\n      <th>1</th>\n      <td>TranID1409030010044114444</td>\n      <td>1</td>\n      <td>20.0519</td>\n      <td>0.281733</td>\n      <td>53990.458866</td>\n    </tr>\n    <tr>\n      <th>2</th>\n      <td>TranID1409030010044114444</td>\n      <td>2</td>\n      <td>20.2199</td>\n      <td>0.295764</td>\n      <td>53996.286004</td>\n    </tr>\n    <tr>\n      <th>3</th>\n      <td>TranID1409030010044114444</td>\n      <td>3</td>\n      <td>21.1192</td>\n      <td>0.495390</td>\n      <td>54385.205789</td>\n    </tr>\n    <tr>\n      <th>4</th>\n      <td>TranID1409030010044114444</td>\n      <td>4</td>\n      <td>19.3289</td>\n      <td>0.195002</td>\n      <td>54355.282285</td>\n    </tr>\n    <tr>\n      <th>5</th>\n      <td>TranID1409030010044114444</td>\n      <td>5</td>\n      <td>20.5594</td>\n      <td>0.366624</td>\n      <td>54715.323492</td>\n    </tr>\n    <tr>\n      <th>6</th>\n      <td>TranID1409030010044114444</td>\n      <td>6</td>\n      <td>20.3022</td>\n      <td>0.318527</td>\n      <td>54715.329950</td>\n    </tr>\n    <tr>\n      <th>7</th>\n      <td>TranID1409030010044114444</td>\n      <td>7</td>\n      <td>21.0141</td>\n      <td>0.488018</td>\n      <td>55153.141345</td>\n    </tr>\n    <tr>\n      <th>8</th>\n      <td>TranID1409030010044114444</td>\n      <td>8</td>\n      <td>19.8363</td>\n      <td>0.252095</td>\n      <td>55893.177949</td>\n    </tr>\n    <tr>\n      <th>9</th>\n      <td>TranID1409030010044114444</td>\n      <td>9</td>\n      <td>20.9989</td>\n      <td>0.487018</td>\n      <td>56296.081057</td>\n    </tr>\n  </tbody>\n</table>\n</div>"
     },
     "metadata": {},
     "execution_count": 15
    }
   ],
   "source": [
    "def read_lc(path):\n",
    "\n",
    "    ext = ['.csv','.dat']\n",
    "\n",
    "    for ex in ext:\n",
    "\n",
    "        if ex in path:\n",
    "\n",
    "            data = pd.read_csv(path)\n",
    "\n",
    "\n",
    "    return data\n",
    "\n",
    "path = 'features.csv'\n",
    "\n",
    "dat = read_lc(path=url)\n",
    "dat.head(10)"
   ]
  },
  {
   "cell_type": "code",
   "execution_count": 6,
   "metadata": {},
   "outputs": [
    {
     "output_type": "execute_result",
     "data": {
      "text/plain": [
       "                            Class\n",
       "# ID                             \n",
       "TranID1001061210214137885   Flare\n",
       "TranID1001061320334228647     HPM\n",
       "TranID1001080010554115862      CV\n",
       "TranID1001081010294126339      SN\n",
       "TranID1001081010294129406      SN\n",
       "...                           ...\n",
       "TranID912201230044119403       SN\n",
       "TranID912201320034112505       SN\n",
       "TranID912201380044131500   SN/TDE\n",
       "TranID912201400044136465       SN\n",
       "TranID912201400354121224       SN\n",
       "\n",
       "[4869 rows x 1 columns]"
      ],
      "text/html": "<div>\n<style scoped>\n    .dataframe tbody tr th:only-of-type {\n        vertical-align: middle;\n    }\n\n    .dataframe tbody tr th {\n        vertical-align: top;\n    }\n\n    .dataframe thead th {\n        text-align: right;\n    }\n</style>\n<table border=\"1\" class=\"dataframe\">\n  <thead>\n    <tr style=\"text-align: right;\">\n      <th></th>\n      <th>Class</th>\n    </tr>\n    <tr>\n      <th># ID</th>\n      <th></th>\n    </tr>\n  </thead>\n  <tbody>\n    <tr>\n      <th>TranID1001061210214137885</th>\n      <td>Flare</td>\n    </tr>\n    <tr>\n      <th>TranID1001061320334228647</th>\n      <td>HPM</td>\n    </tr>\n    <tr>\n      <th>TranID1001080010554115862</th>\n      <td>CV</td>\n    </tr>\n    <tr>\n      <th>TranID1001081010294126339</th>\n      <td>SN</td>\n    </tr>\n    <tr>\n      <th>TranID1001081010294129406</th>\n      <td>SN</td>\n    </tr>\n    <tr>\n      <th>...</th>\n      <td>...</td>\n    </tr>\n    <tr>\n      <th>TranID912201230044119403</th>\n      <td>SN</td>\n    </tr>\n    <tr>\n      <th>TranID912201320034112505</th>\n      <td>SN</td>\n    </tr>\n    <tr>\n      <th>TranID912201380044131500</th>\n      <td>SN/TDE</td>\n    </tr>\n    <tr>\n      <th>TranID912201400044136465</th>\n      <td>SN</td>\n    </tr>\n    <tr>\n      <th>TranID912201400354121224</th>\n      <td>SN</td>\n    </tr>\n  </tbody>\n</table>\n<p>4869 rows × 1 columns</p>\n</div>"
     },
     "metadata": {},
     "execution_count": 6
    }
   ],
   "source": [
    "read_lc(path='LabelsID.csv',extensions='.csv')"
   ]
  },
  {
   "cell_type": "code",
   "execution_count": 40,
   "metadata": {},
   "outputs": [],
   "source": []
  },
  {
   "cell_type": "code",
   "execution_count": null,
   "metadata": {},
   "outputs": [],
   "source": []
  }
 ]
}