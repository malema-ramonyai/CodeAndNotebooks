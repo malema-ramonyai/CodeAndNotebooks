{
 "metadata": {
  "language_info": {
   "codemirror_mode": {
    "name": "ipython",
    "version": 3
   },
   "file_extension": ".py",
   "mimetype": "text/x-python",
   "name": "python",
   "nbconvert_exporter": "python",
   "pygments_lexer": "ipython3",
   "version": "3.8.5-final"
  },
  "orig_nbformat": 2,
  "kernelspec": {
   "name": "python3",
   "display_name": "Python 3",
   "language": "python"
  }
 },
 "nbformat": 4,
 "nbformat_minor": 2,
 "cells": [
  {
   "cell_type": "code",
   "execution_count": 1,
   "metadata": {},
   "outputs": [],
   "source": [
    "import numpy as numpy\n",
    "import matplotlib.pyplot as plt \n",
    "import pandas as pd \n"
   ]
  },
  {
   "cell_type": "code",
   "execution_count": 44,
   "metadata": {},
   "outputs": [
    {
     "output_type": "execute_result",
     "data": {
      "text/plain": [
       "            AndersonDarling   Autocor_length   Beyond1Std  CAR_sigma  \\\n",
       "Amplitude                                                              \n",
       "1.50475            1.000000              2.0     0.411765       10.0   \n",
       "1.53220            1.000000              8.0     0.345946       10.0   \n",
       "1.24740            0.999302              2.0     0.414634       10.0   \n",
       "1.23785            1.000000              6.0     0.410000       10.0   \n",
       "1.36500            1.000000             30.0     0.371528       10.0   \n",
       "\n",
       "                Con         Eta_e   Freq1_harmonics_rel_phase_1  LinearTrend  \\\n",
       "Amplitude                                                                      \n",
       "1.50475    0.015152  1.639083e+07                      0.133163    -0.000216   \n",
       "1.53220    0.032787  2.411989e+06                     -0.209898    -0.000333   \n",
       "1.24740    0.000000  8.020303e+06                      1.009082     0.000009   \n",
       "1.23785    0.061224  4.823456e+06                     -0.119399    -0.000227   \n",
       "1.36500    0.073427  2.173539e+05                      0.397704    -0.000552   \n",
       "\n",
       "             MaxSlope       Mean   Period_fit   SlottedA_length  \\\n",
       "Amplitude                                                         \n",
       "1.50475    310.686183  20.125262     1.000000               6.0   \n",
       "1.53220    317.453004  19.331475     0.000000               1.0   \n",
       "1.24740    123.993913  20.123456     0.970337              17.0   \n",
       "1.23785    146.497039  19.704732     0.003795               2.0   \n",
       "1.36500    210.703834  18.261774     0.000000               3.0   \n",
       "\n",
       "           SmallKurtosis   StructureFunction_index_21  \\\n",
       "Amplitude                                               \n",
       "1.50475        10.438348                     1.742156   \n",
       "1.53220         3.227174                     1.723731   \n",
       "1.24740         0.000310                     1.731060   \n",
       "1.23785         1.244926                     1.677341   \n",
       "1.36500         1.919426                     1.403380   \n",
       "\n",
       "                                  ID   Class  \n",
       "Amplitude                                     \n",
       "1.50475    TranID1209210010044118805   Flare  \n",
       "1.53220    TranID1310250040014131234      SN  \n",
       "1.24740    TranID1011080040044131101      SN  \n",
       "1.23785    TranID1310250070034110542      SN  \n",
       "1.36500    TranID1201030070034134767  Blazar  "
      ],
      "text/html": "<div>\n<style scoped>\n    .dataframe tbody tr th:only-of-type {\n        vertical-align: middle;\n    }\n\n    .dataframe tbody tr th {\n        vertical-align: top;\n    }\n\n    .dataframe thead th {\n        text-align: right;\n    }\n</style>\n<table border=\"1\" class=\"dataframe\">\n  <thead>\n    <tr style=\"text-align: right;\">\n      <th></th>\n      <th>AndersonDarling</th>\n      <th>Autocor_length</th>\n      <th>Beyond1Std</th>\n      <th>CAR_sigma</th>\n      <th>Con</th>\n      <th>Eta_e</th>\n      <th>Freq1_harmonics_rel_phase_1</th>\n      <th>LinearTrend</th>\n      <th>MaxSlope</th>\n      <th>Mean</th>\n      <th>Period_fit</th>\n      <th>SlottedA_length</th>\n      <th>SmallKurtosis</th>\n      <th>StructureFunction_index_21</th>\n      <th>ID</th>\n      <th>Class</th>\n    </tr>\n    <tr>\n      <th>Amplitude</th>\n      <th></th>\n      <th></th>\n      <th></th>\n      <th></th>\n      <th></th>\n      <th></th>\n      <th></th>\n      <th></th>\n      <th></th>\n      <th></th>\n      <th></th>\n      <th></th>\n      <th></th>\n      <th></th>\n      <th></th>\n      <th></th>\n    </tr>\n  </thead>\n  <tbody>\n    <tr>\n      <th>1.50475</th>\n      <td>1.000000</td>\n      <td>2.0</td>\n      <td>0.411765</td>\n      <td>10.0</td>\n      <td>0.015152</td>\n      <td>1.639083e+07</td>\n      <td>0.133163</td>\n      <td>-0.000216</td>\n      <td>310.686183</td>\n      <td>20.125262</td>\n      <td>1.000000</td>\n      <td>6.0</td>\n      <td>10.438348</td>\n      <td>1.742156</td>\n      <td>TranID1209210010044118805</td>\n      <td>Flare</td>\n    </tr>\n    <tr>\n      <th>1.53220</th>\n      <td>1.000000</td>\n      <td>8.0</td>\n      <td>0.345946</td>\n      <td>10.0</td>\n      <td>0.032787</td>\n      <td>2.411989e+06</td>\n      <td>-0.209898</td>\n      <td>-0.000333</td>\n      <td>317.453004</td>\n      <td>19.331475</td>\n      <td>0.000000</td>\n      <td>1.0</td>\n      <td>3.227174</td>\n      <td>1.723731</td>\n      <td>TranID1310250040014131234</td>\n      <td>SN</td>\n    </tr>\n    <tr>\n      <th>1.24740</th>\n      <td>0.999302</td>\n      <td>2.0</td>\n      <td>0.414634</td>\n      <td>10.0</td>\n      <td>0.000000</td>\n      <td>8.020303e+06</td>\n      <td>1.009082</td>\n      <td>0.000009</td>\n      <td>123.993913</td>\n      <td>20.123456</td>\n      <td>0.970337</td>\n      <td>17.0</td>\n      <td>0.000310</td>\n      <td>1.731060</td>\n      <td>TranID1011080040044131101</td>\n      <td>SN</td>\n    </tr>\n    <tr>\n      <th>1.23785</th>\n      <td>1.000000</td>\n      <td>6.0</td>\n      <td>0.410000</td>\n      <td>10.0</td>\n      <td>0.061224</td>\n      <td>4.823456e+06</td>\n      <td>-0.119399</td>\n      <td>-0.000227</td>\n      <td>146.497039</td>\n      <td>19.704732</td>\n      <td>0.003795</td>\n      <td>2.0</td>\n      <td>1.244926</td>\n      <td>1.677341</td>\n      <td>TranID1310250070034110542</td>\n      <td>SN</td>\n    </tr>\n    <tr>\n      <th>1.36500</th>\n      <td>1.000000</td>\n      <td>30.0</td>\n      <td>0.371528</td>\n      <td>10.0</td>\n      <td>0.073427</td>\n      <td>2.173539e+05</td>\n      <td>0.397704</td>\n      <td>-0.000552</td>\n      <td>210.703834</td>\n      <td>18.261774</td>\n      <td>0.000000</td>\n      <td>3.0</td>\n      <td>1.919426</td>\n      <td>1.403380</td>\n      <td>TranID1201030070034134767</td>\n      <td>Blazar</td>\n    </tr>\n  </tbody>\n</table>\n</div>"
     },
     "metadata": {},
     "execution_count": 44
    }
   ],
   "source": [
    "def read_lc(path,extensions):\n",
    "\n",
    "    ext = ['.csv','.dat']\n",
    "\n",
    "    data = pd.read_csv(path,index_col=0)\n",
    "    \n",
    "    # ,names=['Amplitude',\t'AndersonDarling',\t'Autocor_length',\t'Beyond1Std',\t'CAR_sigma',\t'Con',\t'Eta_e',\t'Freq1_harmonics_rel_phase_1',\t'LinearTrend',\t'MaxSlope',\t'Mean',\t'Period_fit',\t'SlottedA_length',\t'SmallKurtosis',\t'StructureFunction_index_21',\t'ID',\t'Class'])\n",
    "\n",
    "    return data\n",
    "\n",
    "path = 'features.csv'\n",
    "\n",
    "dat = read_lc(path=path,extensions='.csv')\n",
    "\n",
    "dat.head()"
   ]
  },
  {
   "cell_type": "code",
   "execution_count": 45,
   "metadata": {},
   "outputs": [
    {
     "output_type": "error",
     "ename": "AttributeError",
     "evalue": "'DataFrame' object has no attribute 'Amplitude'",
     "traceback": [
      "\u001b[0;31m---------------------------------------------------------------------------\u001b[0m",
      "\u001b[0;31mAttributeError\u001b[0m                            Traceback (most recent call last)",
      "\u001b[0;32m<ipython-input-45-fde56f52414b>\u001b[0m in \u001b[0;36m<module>\u001b[0;34m\u001b[0m\n\u001b[0;32m----> 1\u001b[0;31m \u001b[0mdat\u001b[0m\u001b[0;34m.\u001b[0m\u001b[0mAmplitude\u001b[0m\u001b[0;34m\u001b[0m\u001b[0;34m\u001b[0m\u001b[0m\n\u001b[0m",
      "\u001b[0;32m~/anaconda3/lib/python3.8/site-packages/pandas/core/generic.py\u001b[0m in \u001b[0;36m__getattr__\u001b[0;34m(self, name)\u001b[0m\n\u001b[1;32m   5137\u001b[0m             \u001b[0;32mif\u001b[0m \u001b[0mself\u001b[0m\u001b[0;34m.\u001b[0m\u001b[0m_info_axis\u001b[0m\u001b[0;34m.\u001b[0m\u001b[0m_can_hold_identifiers_and_holds_name\u001b[0m\u001b[0;34m(\u001b[0m\u001b[0mname\u001b[0m\u001b[0;34m)\u001b[0m\u001b[0;34m:\u001b[0m\u001b[0;34m\u001b[0m\u001b[0;34m\u001b[0m\u001b[0m\n\u001b[1;32m   5138\u001b[0m                 \u001b[0;32mreturn\u001b[0m \u001b[0mself\u001b[0m\u001b[0;34m[\u001b[0m\u001b[0mname\u001b[0m\u001b[0;34m]\u001b[0m\u001b[0;34m\u001b[0m\u001b[0;34m\u001b[0m\u001b[0m\n\u001b[0;32m-> 5139\u001b[0;31m             \u001b[0;32mreturn\u001b[0m \u001b[0mobject\u001b[0m\u001b[0;34m.\u001b[0m\u001b[0m__getattribute__\u001b[0m\u001b[0;34m(\u001b[0m\u001b[0mself\u001b[0m\u001b[0;34m,\u001b[0m \u001b[0mname\u001b[0m\u001b[0;34m)\u001b[0m\u001b[0;34m\u001b[0m\u001b[0;34m\u001b[0m\u001b[0m\n\u001b[0m\u001b[1;32m   5140\u001b[0m \u001b[0;34m\u001b[0m\u001b[0m\n\u001b[1;32m   5141\u001b[0m     \u001b[0;32mdef\u001b[0m \u001b[0m__setattr__\u001b[0m\u001b[0;34m(\u001b[0m\u001b[0mself\u001b[0m\u001b[0;34m,\u001b[0m \u001b[0mname\u001b[0m\u001b[0;34m:\u001b[0m \u001b[0mstr\u001b[0m\u001b[0;34m,\u001b[0m \u001b[0mvalue\u001b[0m\u001b[0;34m)\u001b[0m \u001b[0;34m->\u001b[0m \u001b[0;32mNone\u001b[0m\u001b[0;34m:\u001b[0m\u001b[0;34m\u001b[0m\u001b[0;34m\u001b[0m\u001b[0m\n",
      "\u001b[0;31mAttributeError\u001b[0m: 'DataFrame' object has no attribute 'Amplitude'"
     ]
    }
   ],
   "source": [
    "dat.Amplitude"
   ]
  },
  {
   "cell_type": "code",
   "execution_count": 40,
   "metadata": {},
   "outputs": [],
   "source": [
    "# pd.read_csv?"
   ]
  },
  {
   "cell_type": "code",
   "execution_count": null,
   "metadata": {},
   "outputs": [],
   "source": []
  }
 ]
}