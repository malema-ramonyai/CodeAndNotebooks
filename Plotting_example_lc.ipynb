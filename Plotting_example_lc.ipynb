{
 "cells": [
  {
   "cell_type": "code",
   "execution_count": 1,
   "metadata": {},
   "outputs": [],
   "source": [
    "import numpy as np \n",
    "import pandas as pd \n",
    "import matplotlib.pyplot as plt\n",
    "import matplotlib\n",
    "import feets\n",
    "import os\n",
    "\n",
    "script_dir = os.path.dirname('Results/')\n",
    "results_dir = os.path.join(script_dir, 'Images/')\n",
    "\n",
    "if not os.path.isdir(results_dir):\n",
    "    os.makedirs(results_dir)"
   ]
  },
  {
   "cell_type": "code",
   "execution_count": 2,
   "metadata": {},
   "outputs": [],
   "source": [
    "#### Uncomment to read-in the data\n",
    "\n",
    "# # Reading in the data\n",
    "\n",
    "url = \"https://raw.githubusercontent.com/MachineLearningUniandes/MANTRA/master/data/lightcurves/transient_lightcurves.csv\"\n",
    "url1 = 'https://raw.githubusercontent.com/MachineLearningUniandes/MANTRA/master/data/lightcurves/transient_labels.csv'\n",
    "url2 = 'https://raw.githubusercontent.com/MachineLearningUniandes/MANTRA/master/data/lightcurves/transient_info.txt'\n",
    "transient_lc = pd.read_csv(url)\n",
    "transient_labels = pd.read_csv(url1)\n",
    "transient_info = pd.read_table(url2)"
   ]
  },
  {
   "cell_type": "code",
   "execution_count": 3,
   "metadata": {},
   "outputs": [
    {
     "output_type": "execute_result",
     "data": {
      "text/html": "<div>\n<style scoped>\n    .dataframe tbody tr th:only-of-type {\n        vertical-align: middle;\n    }\n\n    .dataframe tbody tr th {\n        vertical-align: top;\n    }\n\n    .dataframe thead th {\n        text-align: right;\n    }\n</style>\n<table border=\"1\" class=\"dataframe\">\n  <thead>\n    <tr style=\"text-align: right;\">\n      <th></th>\n      <th>ID</th>\n      <th>observation_id</th>\n      <th>Mag</th>\n      <th>Magerr</th>\n      <th>MJD</th>\n    </tr>\n  </thead>\n  <tbody>\n    <tr>\n      <th>0</th>\n      <td>TranID1409030010044114444</td>\n      <td>0</td>\n      <td>18.8765</td>\n      <td>0.166417</td>\n      <td>53766.089871</td>\n    </tr>\n    <tr>\n      <th>1</th>\n      <td>TranID1409030010044114444</td>\n      <td>1</td>\n      <td>20.0519</td>\n      <td>0.281733</td>\n      <td>53990.458866</td>\n    </tr>\n    <tr>\n      <th>2</th>\n      <td>TranID1409030010044114444</td>\n      <td>2</td>\n      <td>20.2199</td>\n      <td>0.295764</td>\n      <td>53996.286004</td>\n    </tr>\n    <tr>\n      <th>3</th>\n      <td>TranID1409030010044114444</td>\n      <td>3</td>\n      <td>21.1192</td>\n      <td>0.495390</td>\n      <td>54385.205789</td>\n    </tr>\n    <tr>\n      <th>4</th>\n      <td>TranID1409030010044114444</td>\n      <td>4</td>\n      <td>19.3289</td>\n      <td>0.195002</td>\n      <td>54355.282285</td>\n    </tr>\n  </tbody>\n</table>\n</div>",
      "text/plain": [
       "                          ID  observation_id      Mag    Magerr           MJD\n",
       "0  TranID1409030010044114444               0  18.8765  0.166417  53766.089871\n",
       "1  TranID1409030010044114444               1  20.0519  0.281733  53990.458866\n",
       "2  TranID1409030010044114444               2  20.2199  0.295764  53996.286004\n",
       "3  TranID1409030010044114444               3  21.1192  0.495390  54385.205789\n",
       "4  TranID1409030010044114444               4  19.3289  0.195002  54355.282285"
      ]
     },
     "metadata": {},
     "execution_count": 3
    }
   ],
   "source": [
    "transient_labels.head(10)\n",
    "transient_lc.head()"
   ]
  },
  {
   "cell_type": "markdown",
   "metadata": {},
   "source": [
    "# Linking the uniques_IDs with the class"
   ]
  },
  {
   "cell_type": "code",
   "execution_count": 5,
   "metadata": {},
   "outputs": [],
   "source": [
    "# Lb = []\n",
    "# unique_ID = np.unique(transient_lc.ID)\n",
    "# for i in range(len(transient_labels.Classification)):\n",
    "    \n",
    "#     for j in range(len(unique_ID)):\n",
    "        \n",
    "#         if unique_ID[j] == 'TranID' + str(transient_labels.TransientID.iloc[i]):\n",
    "            \n",
    "#             Lb.append(transient_labels.Classification[i])\n",
    "\n",
    "# # Dictionary to store IDs and thier Class\n",
    "# data = {'ID':unique_ID,'Class':Lb}\n",
    "# # Classes based on the dictionary\n",
    "# lc_class = pd.DataFrame(data)\n",
    "\n",
    "# np.savetxt('LabelsID.csv', lc_class,delimiter=',',fmt='%s'\n",
    "#            ,header='ID, Class')\n"
   ]
  },
  {
   "cell_type": "code",
   "execution_count": 4,
   "metadata": {
    "scrolled": true
   },
   "outputs": [],
   "source": [
    "\n",
    "\n",
    "data = transient_labels\n",
    "\n",
    "def lc_plots(lb,data,max_points):\n",
    "    \n",
    "    '''A function that plots light curves based on the input lables (i.e lb)\n",
    "\n",
    "        Input: \n",
    "\n",
    "            .label: lb\n",
    "            .data: data\n",
    "            .maximum #points: max_points\n",
    "\n",
    "        Output:\n",
    "\n",
    "            . IDs of the plotted lc\n",
    "            . Some lc plots\n",
    "\n",
    "    '''\n",
    "\n",
    "\n",
    "    Label = data[data['Classification']==lb]\n",
    "    \n",
    "    print(Label)\n",
    "\n",
    "\n",
    "    plt.rcParams.update({'font.size': 20})\n",
    "    plt.figure(figsize=(16,4))\n",
    "    for i in range(len(Label)):\n",
    "\n",
    "        # Lc for a specific ID\n",
    "        lc = transient_lc[transient_lc['ID']== 'TranID'+str(Label.TransientID.iloc[i])]\n",
    "        \n",
    "        \n",
    "\n",
    "        if len(lc.ID) > max_points:\n",
    "            \n",
    "            print('TranID'+str(Label.TransientID.iloc[i]))\n",
    "\n",
    "            plt.figure(figsize=(16,4))\n",
    "            plt.errorbar(lc.MJD,lc.Mag,yerr=lc.Magerr,fmt='.r',label=lb)\n",
    "            plt.legend(fontsize=12)\n",
    "            plt.xlabel('MJD')\n",
    "            plt.ylabel('Mag')\n",
    "            plt.gca().invert_yaxis()\n",
    "\n",
    "#             print(Label.ID.iloc[i])\n",
    "\n",
    "            plt.show()\n",
    "\n",
    "                \n",
    "# lc_plots(lb='SN',data=data,max_points=100)\n",
    "# plt.show()"
   ]
  },
  {
   "cell_type": "code",
   "execution_count": 6,
   "metadata": {},
   "outputs": [
    {
     "output_type": "stream",
     "name": "stdout",
     "text": [
      "SN\n"
     ]
    },
    {
     "output_type": "stream",
     "text": [
      "\u001b[0;31mDocstring:\u001b[0m\n",
      "arange([start,] stop[, step,], dtype=None)\n",
      "\n",
      "Return evenly spaced values within a given interval.\n",
      "\n",
      "Values are generated within the half-open interval ``[start, stop)``\n",
      "(in other words, the interval including `start` but excluding `stop`).\n",
      "For integer arguments the function is equivalent to the Python built-in\n",
      "`range` function, but returns an ndarray rather than a list.\n",
      "\n",
      "When using a non-integer step, such as 0.1, the results will often not\n",
      "be consistent.  It is better to use `numpy.linspace` for these cases.\n",
      "\n",
      "Parameters\n",
      "----------\n",
      "start : number, optional\n",
      "    Start of interval.  The interval includes this value.  The default\n",
      "    start value is 0.\n",
      "stop : number\n",
      "    End of interval.  The interval does not include this value, except\n",
      "    in some cases where `step` is not an integer and floating point\n",
      "    round-off affects the length of `out`.\n",
      "step : number, optional\n",
      "    Spacing between values.  For any output `out`, this is the distance\n",
      "    between two adjacent values, ``out[i+1] - out[i]``.  The default\n",
      "    step size is 1.  If `step` is specified as a position argument,\n",
      "    `start` must also be given.\n",
      "dtype : dtype\n",
      "    The type of the output array.  If `dtype` is not given, infer the data\n",
      "    type from the other input arguments.\n",
      "\n",
      "Returns\n",
      "-------\n",
      "arange : ndarray\n",
      "    Array of evenly spaced values.\n",
      "\n",
      "    For floating point arguments, the length of the result is\n",
      "    ``ceil((stop - start)/step)``.  Because of floating point overflow,\n",
      "    this rule may result in the last element of `out` being greater\n",
      "    than `stop`.\n",
      "\n",
      "See Also\n",
      "--------\n",
      "numpy.linspace : Evenly spaced numbers with careful handling of endpoints.\n",
      "numpy.ogrid: Arrays of evenly spaced numbers in N-dimensions.\n",
      "numpy.mgrid: Grid-shaped arrays of evenly spaced numbers in N-dimensions.\n",
      "\n",
      "Examples\n",
      "--------\n",
      ">>> np.arange(3)\n",
      "array([0, 1, 2])\n",
      ">>> np.arange(3.0)\n",
      "array([ 0.,  1.,  2.])\n",
      ">>> np.arange(3,7)\n",
      "array([3, 4, 5, 6])\n",
      ">>> np.arange(3,7,2)\n",
      "array([3, 5])\n",
      "\u001b[0;31mType:\u001b[0m      builtin_function_or_method\n"
     ],
     "name": "stdout"
    }
   ],
   "source": [
    "c='TranID1602071010694101813'\n",
    "\n",
    "for i in range(len(transient_labels)):\n",
    "    \n",
    "    \n",
    "    if transient_labels.TransientID.iloc[i]== int(c[6:]):\n",
    "        \n",
    "        print(transient_labels.Classification.iloc[i])\n",
    "\n",
    "\n",
    "np.arange?\n",
    "        \n",
    "        \n",
    "# transient_labels.TransientID.iloc[i]\n",
    "\n"
   ]
  },
  {
   "cell_type": "code",
   "execution_count": 39,
   "metadata": {
    "scrolled": true
   },
   "outputs": [],
   "source": [
    "# # Plotting the best 4 lc for a specific class\n",
    "\n",
    "# plt.figure(figsize=(22,10))\n",
    "\n",
    "# plt.subplot(221)\n",
    "# lc = transient_lc[transient_lc['ID']=='TranID1104141070804123992']\n",
    "# plt.errorbar(lc.MJD,lc.Mag,yerr=lc.Magerr,fmt='.r',label='SN')\n",
    "# plt.legend(fontsize=12)\n",
    "# plt.xlabel('MJD')\n",
    "# plt.ylabel('Mag')\n",
    "# plt.gca().invert_yaxis()\n",
    "\n",
    "\n",
    "# plt.subplot(222)\n",
    "# lc = transient_lc[transient_lc['ID']=='TranID1111281150614125119']\n",
    "# plt.errorbar(lc.MJD,lc.Mag,yerr=lc.Magerr,fmt='.r',label='SN')\n",
    "# plt.legend(fontsize=12)\n",
    "# plt.xlabel('MJD')\n",
    "# plt.ylabel('Mag')\n",
    "# plt.gca().invert_yaxis()\n",
    "\n",
    "# plt.subplot(223)\n",
    "# lc = transient_lc[transient_lc['ID']=='TranID1109241350074121359']\n",
    "# plt.errorbar(lc.MJD,lc.Mag,yerr=lc.Magerr,fmt='.r',label='SN')\n",
    "# plt.legend(fontsize=12)\n",
    "# plt.xlabel('MJD')\n",
    "# plt.ylabel('Mag')\n",
    "# plt.gca().invert_yaxis()\n",
    "\n",
    "# plt.subplot(224)\n",
    "# lc = transient_lc[transient_lc['ID']=='TranID1003211150624122202']\n",
    "# plt.errorbar(lc.MJD,lc.Mag,yerr=lc.Magerr,fmt='.r',label='SN')\n",
    "# plt.legend(fontsize=12)\n",
    "# plt.xlabel('MJD')\n",
    "# plt.ylabel('Mag')\n",
    "# plt.gca().invert_yaxis()\n",
    "\n",
    "# plt.savefig(results_dir + 'SN.png',bbox_inches=\"tight\") \n",
    "# plt.show()"
   ]
  },
  {
   "cell_type": "markdown",
   "metadata": {},
   "source": [
    "# AGN"
   ]
  },
  {
   "cell_type": "code",
   "execution_count": 40,
   "metadata": {
    "scrolled": true
   },
   "outputs": [],
   "source": [
    "# lc_plots(lb='AGN',data=data,max_points=300)\n",
    "# plt.show()"
   ]
  },
  {
   "cell_type": "code",
   "execution_count": 41,
   "metadata": {
    "scrolled": true
   },
   "outputs": [],
   "source": [
    "# # Plotting the best 4 lc for a specific class\n",
    "\n",
    "# plt.figure(figsize=(22,10))\n",
    "\n",
    "# plt.subplot(221)\n",
    "# lc = transient_lc[transient_lc['ID']=='TranID1601281400444102455']\n",
    "# plt.errorbar(lc.MJD,lc.Mag,yerr=lc.Magerr,fmt='.r',label='AGN')\n",
    "# plt.legend(fontsize=12)\n",
    "# plt.xlabel('MJD')\n",
    "# plt.ylabel('Mag')\n",
    "# plt.gca().invert_yaxis()\n",
    "\n",
    "\n",
    "# plt.subplot(222)\n",
    "# lc = transient_lc[transient_lc['ID']=='TranID1411251150194108707']\n",
    "# plt.errorbar(lc.MJD,lc.Mag,yerr=lc.Magerr,fmt='.r',label='AGN')\n",
    "# plt.legend(fontsize=12)\n",
    "# plt.xlabel('MJD')\n",
    "# plt.ylabel('Mag')\n",
    "# plt.gca().invert_yaxis()\n",
    "\n",
    "# plt.subplot(223)\n",
    "# lc = transient_lc[transient_lc['ID']=='TranID1201131350584118676']\n",
    "# plt.errorbar(lc.MJD,lc.Mag,yerr=lc.Magerr,fmt='.r',label='AGN')\n",
    "# plt.legend(fontsize=12)\n",
    "# plt.xlabel('MJD')\n",
    "# plt.ylabel('Mag')\n",
    "# plt.gca().invert_yaxis()\n",
    "\n",
    "# plt.subplot(224)\n",
    "# lc = transient_lc[transient_lc['ID']=='TranID1112241150694114923']\n",
    "# plt.errorbar(lc.MJD,lc.Mag,yerr=lc.Magerr,fmt='.r',label='AGN')\n",
    "# plt.legend(fontsize=12)\n",
    "# plt.xlabel('MJD')\n",
    "# plt.ylabel('Mag')\n",
    "# plt.gca().invert_yaxis()\n",
    "\n",
    "# plt.savefig(results_dir + 'AGN.png',bbox_inches=\"tight\") \n",
    "# plt.show()"
   ]
  },
  {
   "cell_type": "markdown",
   "metadata": {},
   "source": [
    "# CV"
   ]
  },
  {
   "cell_type": "code",
   "execution_count": 42,
   "metadata": {
    "scrolled": true
   },
   "outputs": [],
   "source": [
    "# lc_plots(lb='CV',data=data,max_points=300)\n",
    "# plt.show()"
   ]
  },
  {
   "cell_type": "code",
   "execution_count": 43,
   "metadata": {
    "scrolled": true
   },
   "outputs": [],
   "source": [
    "# # Plotting the best 4 lc for a specific class\n",
    "\n",
    "# plt.figure(figsize=(22,10))\n",
    "\n",
    "# plt.subplot(221)\n",
    "# lc = transient_lc[transient_lc['ID']=='TranID1609061180834144443']\n",
    "# plt.errorbar(lc.MJD,lc.Mag,yerr=lc.Magerr,fmt='.r',label='CV')\n",
    "# plt.legend(fontsize=12)\n",
    "# plt.xlabel('MJD')\n",
    "# plt.ylabel('Mag')\n",
    "# plt.gca().invert_yaxis()\n",
    "\n",
    "\n",
    "# plt.subplot(222)\n",
    "# lc = transient_lc[transient_lc['ID']=='TranID1603171180824123493']\n",
    "# plt.errorbar(lc.MJD,lc.Mag,yerr=lc.Magerr,fmt='.r',label='CV')\n",
    "# plt.legend(fontsize=12)\n",
    "# plt.xlabel('MJD')\n",
    "# plt.ylabel('Mag')\n",
    "# plt.gca().invert_yaxis()\n",
    "\n",
    "# plt.subplot(223)\n",
    "# lc = transient_lc[transient_lc['ID']=='TranID1512011120274154794']\n",
    "# plt.errorbar(lc.MJD,lc.Mag,yerr=lc.Magerr,fmt='.r',label='CV')\n",
    "# plt.legend(fontsize=12)\n",
    "# plt.xlabel('MJD')\n",
    "# plt.ylabel('Mag')\n",
    "# plt.gca().invert_yaxis()\n",
    "\n",
    "# plt.subplot(224)\n",
    "# lc = transient_lc[transient_lc['ID']=='TranID1211201210114118379']\n",
    "# plt.errorbar(lc.MJD,lc.Mag,yerr=lc.Magerr,fmt='.r',label='CV')\n",
    "# plt.legend(fontsize=12)\n",
    "# plt.xlabel('MJD')\n",
    "# plt.ylabel('Mag')\n",
    "# plt.gca().invert_yaxis()\n",
    "\n",
    "# plt.savefig(results_dir + 'CV.png',bbox_inches=\"tight\") \n",
    "# plt.show()"
   ]
  },
  {
   "cell_type": "markdown",
   "metadata": {},
   "source": [
    "# Balazar\n"
   ]
  },
  {
   "cell_type": "code",
   "execution_count": 44,
   "metadata": {
    "scrolled": true
   },
   "outputs": [],
   "source": [
    "# lc_plots(lb='Blazar',data=data,max_points=300)\n",
    "# plt.show()"
   ]
  },
  {
   "cell_type": "code",
   "execution_count": 45,
   "metadata": {
    "scrolled": false
   },
   "outputs": [],
   "source": [
    "# # Plotting the best 4 lc for a specific class\n",
    "\n",
    "# plt.figure(figsize=(22,10))\n",
    "\n",
    "# plt.subplot(221)\n",
    "# lc = transient_lc[transient_lc['ID']=='TranID1501181320604119409']\n",
    "# plt.errorbar(lc.MJD,lc.Mag,yerr=lc.Magerr,fmt='.r',label='Blazar')\n",
    "# plt.legend(fontsize=12)\n",
    "# plt.xlabel('MJD')\n",
    "# plt.ylabel('Mag')\n",
    "# plt.gca().invert_yaxis()\n",
    "\n",
    "\n",
    "# plt.subplot(222)\n",
    "# lc = transient_lc[transient_lc['ID']=='TranID1204111210464120236']\n",
    "# plt.errorbar(lc.MJD,lc.Mag,yerr=lc.Magerr,fmt='.r',label='Blazar')\n",
    "# plt.legend(fontsize=12)\n",
    "# plt.xlabel('MJD')\n",
    "# plt.ylabel('Mag')\n",
    "# plt.gca().invert_yaxis()\n",
    "\n",
    "# plt.subplot(223)\n",
    "# lc = transient_lc[transient_lc['ID']=='TranID1401070011234112940']\n",
    "# plt.errorbar(lc.MJD,lc.Mag,yerr=lc.Magerr,fmt='.r',label='Blazar')\n",
    "# plt.legend(fontsize=12)\n",
    "# plt.xlabel('MJD')\n",
    "# plt.ylabel('Mag')\n",
    "# plt.gca().invert_yaxis()\n",
    "\n",
    "# plt.subplot(224)\n",
    "# lc = transient_lc[transient_lc['ID']=='TranID1303021230624130836']\n",
    "# plt.errorbar(lc.MJD,lc.Mag,yerr=lc.Magerr,fmt='.r',label='Blazar')\n",
    "# plt.legend(fontsize=12)\n",
    "# plt.xlabel('MJD')\n",
    "# plt.ylabel('Mag')\n",
    "# plt.gca().invert_yaxis()\n",
    "\n",
    "# plt.savefig(results_dir + 'Blazar.png',bbox_inches=\"tight\") \n",
    "# plt.show()"
   ]
  },
  {
   "cell_type": "markdown",
   "metadata": {},
   "source": [
    "# Unknown"
   ]
  },
  {
   "cell_type": "code",
   "execution_count": 46,
   "metadata": {
    "scrolled": true
   },
   "outputs": [],
   "source": [
    "# lc_plots(lb='Unknown',data=data,max_points=50)\n",
    "# plt.show()"
   ]
  },
  {
   "cell_type": "code",
   "execution_count": 47,
   "metadata": {},
   "outputs": [],
   "source": [
    "# # Plotting the best 4 lc for a specific class\n",
    "\n",
    "# plt.figure(figsize=(22,10))\n",
    "\n",
    "# plt.subplot(221)\n",
    "# lc = transient_lc[transient_lc['ID']=='TranID1301031490264148655']\n",
    "# plt.errorbar(lc.MJD,lc.Mag,yerr=lc.Magerr,fmt='.r',label='Unknown')\n",
    "# plt.legend(fontsize=12)\n",
    "# plt.xlabel('MJD')\n",
    "# plt.ylabel('Mag')\n",
    "# plt.gca().invert_yaxis()\n",
    "\n",
    "\n",
    "# plt.subplot(222)\n",
    "# lc = transient_lc[transient_lc['ID']=='TranID1206181011244111034']\n",
    "# plt.errorbar(lc.MJD,lc.Mag,yerr=lc.Magerr,fmt='.r',label='Unknown')\n",
    "# plt.legend(fontsize=12)\n",
    "# plt.xlabel('MJD')\n",
    "# plt.ylabel('Mag')\n",
    "# plt.gca().invert_yaxis()\n",
    "\n",
    "# plt.subplot(223)\n",
    "# lc = transient_lc[transient_lc['ID']=='TranID1206081230834108521']\n",
    "# plt.errorbar(lc.MJD,lc.Mag,yerr=lc.Magerr,fmt='.r',label='Unknown')\n",
    "# plt.legend(fontsize=12)\n",
    "# plt.xlabel('MJD')\n",
    "# plt.ylabel('Mag')\n",
    "# plt.gca().invert_yaxis()\n",
    "\n",
    "# plt.subplot(224)\n",
    "# lc = transient_lc[transient_lc['ID']=='TranID1502120010314116638']\n",
    "# plt.errorbar(lc.MJD,lc.Mag,yerr=lc.Magerr,fmt='.r',label='Unknown')\n",
    "# plt.legend(fontsize=12)\n",
    "# plt.xlabel('MJD')\n",
    "# plt.ylabel('Mag')\n",
    "# plt.gca().invert_yaxis()\n",
    "\n",
    "# plt.savefig(results_dir + 'Unknown.png',bbox_inches=\"tight\") \n",
    "# plt.show()"
   ]
  },
  {
   "cell_type": "code",
   "execution_count": null,
   "metadata": {},
   "outputs": [],
   "source": []
  }
 ],
 "metadata": {
  "kernelspec": {
   "display_name": "Python 3",
   "language": "python",
   "name": "python3"
  },
  "language_info": {
   "codemirror_mode": {
    "name": "ipython",
    "version": 3
   },
   "file_extension": ".py",
   "mimetype": "text/x-python",
   "name": "python",
   "nbconvert_exporter": "python",
   "pygments_lexer": "ipython3",
   "version": "3.5.2-final"
  }
 },
 "nbformat": 4,
 "nbformat_minor": 2
}