{
 "cells": [
  {
   "cell_type": "code",
   "execution_count": 1,
   "metadata": {},
   "outputs": [],
   "source": [
    "import numpy as np \n",
    "import pandas as pd \n",
    "import matplotlib.pyplot as plt"
   ]
  },
  {
   "cell_type": "code",
   "execution_count": 4,
   "metadata": {},
   "outputs": [],
   "source": [
    "#### Uncomment to read-in the data\n",
    "\n",
    "# # Reading in the data\n",
    "\n",
    "url = \"https://raw.githubusercontent.com/MachineLearningUniandes/MANTRA/master/data/lightcurves/transient_lightcurves.csv\"\n",
    "lc = pd.read_csv(url)"
   ]
  },
  {
   "cell_type": "code",
   "execution_count": 5,
   "metadata": {},
   "outputs": [
    {
     "data": {
      "text/plain": [
       "(440469, 5)"
      ]
     },
     "execution_count": 5,
     "metadata": {},
     "output_type": "execute_result"
    }
   ],
   "source": [
    "lc.shape"
   ]
  },
  {
   "cell_type": "code",
   "execution_count": 6,
   "metadata": {},
   "outputs": [
    {
     "data": {
      "text/html": [
       "<div>\n",
       "<style scoped>\n",
       "    .dataframe tbody tr th:only-of-type {\n",
       "        vertical-align: middle;\n",
       "    }\n",
       "\n",
       "    .dataframe tbody tr th {\n",
       "        vertical-align: top;\n",
       "    }\n",
       "\n",
       "    .dataframe thead th {\n",
       "        text-align: right;\n",
       "    }\n",
       "</style>\n",
       "<table border=\"1\" class=\"dataframe\">\n",
       "  <thead>\n",
       "    <tr style=\"text-align: right;\">\n",
       "      <th></th>\n",
       "      <th>ID</th>\n",
       "      <th>observation_id</th>\n",
       "      <th>Mag</th>\n",
       "      <th>Magerr</th>\n",
       "      <th>MJD</th>\n",
       "    </tr>\n",
       "  </thead>\n",
       "  <tbody>\n",
       "    <tr>\n",
       "      <td>0</td>\n",
       "      <td>TranID1409030010044114444</td>\n",
       "      <td>0</td>\n",
       "      <td>18.8765</td>\n",
       "      <td>0.166417</td>\n",
       "      <td>53766.089871</td>\n",
       "    </tr>\n",
       "    <tr>\n",
       "      <td>1</td>\n",
       "      <td>TranID1409030010044114444</td>\n",
       "      <td>1</td>\n",
       "      <td>20.0519</td>\n",
       "      <td>0.281733</td>\n",
       "      <td>53990.458866</td>\n",
       "    </tr>\n",
       "    <tr>\n",
       "      <td>2</td>\n",
       "      <td>TranID1409030010044114444</td>\n",
       "      <td>2</td>\n",
       "      <td>20.2199</td>\n",
       "      <td>0.295764</td>\n",
       "      <td>53996.286004</td>\n",
       "    </tr>\n",
       "    <tr>\n",
       "      <td>3</td>\n",
       "      <td>TranID1409030010044114444</td>\n",
       "      <td>3</td>\n",
       "      <td>21.1192</td>\n",
       "      <td>0.495390</td>\n",
       "      <td>54385.205789</td>\n",
       "    </tr>\n",
       "    <tr>\n",
       "      <td>4</td>\n",
       "      <td>TranID1409030010044114444</td>\n",
       "      <td>4</td>\n",
       "      <td>19.3289</td>\n",
       "      <td>0.195002</td>\n",
       "      <td>54355.282285</td>\n",
       "    </tr>\n",
       "  </tbody>\n",
       "</table>\n",
       "</div>"
      ],
      "text/plain": [
       "                          ID  observation_id      Mag    Magerr           MJD\n",
       "0  TranID1409030010044114444               0  18.8765  0.166417  53766.089871\n",
       "1  TranID1409030010044114444               1  20.0519  0.281733  53990.458866\n",
       "2  TranID1409030010044114444               2  20.2199  0.295764  53996.286004\n",
       "3  TranID1409030010044114444               3  21.1192  0.495390  54385.205789\n",
       "4  TranID1409030010044114444               4  19.3289  0.195002  54355.282285"
      ]
     },
     "execution_count": 6,
     "metadata": {},
     "output_type": "execute_result"
    }
   ],
   "source": [
    "lc.head()"
   ]
  },
  {
   "cell_type": "markdown",
   "metadata": {},
   "source": [
    "# Getting Unique IDs from the data"
   ]
  },
  {
   "cell_type": "code",
   "execution_count": 7,
   "metadata": {
    "scrolled": true
   },
   "outputs": [],
   "source": [
    "# Getting the Unique ID and storing them in a list\n",
    "\n",
    "unique_ID = []\n",
    "\n",
    "for k in range(1,len(lc.ID)):\n",
    "\n",
    "    if lc.ID.iloc[k-1] != lc.ID.iloc[k]:\n",
    "\n",
    "        unique_ID.append(lc.ID.iloc[k-1])\n",
    "\n",
    "# Appending the last data since the loop above goes\n",
    "# up to len(lc.ID)-1\n",
    "unique_ID.append(lc.ID.iloc[-1])"
   ]
  },
  {
   "cell_type": "code",
   "execution_count": null,
   "metadata": {
    "scrolled": true
   },
   "outputs": [],
   "source": [
    "Lc_len = [] # List to store the duration of the lc\n",
    "\n",
    "d = []      # List to store data for a unique ID as\n",
    "            # by the code above\n",
    "\n",
    "    \n",
    "#  Storing the datasets of the unique ID in a the 'd' \n",
    "#  list\n",
    "for i in unique_ID:\n",
    "    \n",
    "    z = lc[lc['ID']==i]\n",
    "    d.append(z)\n",
    "    \n",
    "    # calculating the duration of the lcs\n",
    "    Lc_len.append(np.sort(z.MJD)[-1] - np.sort(z.MJD)[0])\n",
    "    \n",
    "\n"
   ]
  },
  {
   "cell_type": "markdown",
   "metadata": {},
   "source": [
    "# Ploting first 4 light curves of the unique IDs"
   ]
  },
  {
   "cell_type": "code",
   "execution_count": null,
   "metadata": {
    "scrolled": false
   },
   "outputs": [],
   "source": [
    "# Plotting light curves for the first 4 unique IDs as by the code above\n",
    "for i in range(5):\n",
    "    plt.figure(figsize=(16,4))\n",
    "    plt.errorbar(d[i].MJD,d[i].Mag,yerr=d[i].Magerr,\n",
    "                 fmt='.r',color='r')\n",
    "\n",
    "    plt.xlabel('MJD')\n",
    "    plt.ylabel('Mag')\n",
    "    plt.savefig('Light_Curve'+str(i)+'.png')\n",
    "    plt.show()"
   ]
  },
  {
   "cell_type": "markdown",
   "metadata": {},
   "source": [
    "# Plotting a histogram with the light curve durations"
   ]
  },
  {
   "cell_type": "code",
   "execution_count": null,
   "metadata": {
    "scrolled": false
   },
   "outputs": [],
   "source": [
    "plt.figure(figsize=(12,6))\n",
    "plt.hist(Lc_len,color='red',alpha=0.6, bins=20)\n",
    "plt.xlabel('Duration of the light curves [MJD]')\n",
    "plt.ylabel('Counts')\n",
    "plt.yscale('log')\n",
    "plt.savefig('lc_duration.png')\n",
    "plt.show()\n"
   ]
  },
  {
   "cell_type": "markdown",
   "metadata": {},
   "source": [
    "# Zero light curve length\n",
    "\n",
    "\n",
    "\n",
    "* From the plot above we can see that several light curves (lc) have zero lengths\n",
    "\n",
    "\n",
    "* The code below investigates this light curves in detail\n",
    "\n",
    "\n",
    "* We have found that the light curves with zero lengths have a single point in their observations\n",
    "\n",
    "\n",
    "* The paper does not say anything about this light curves"
   ]
  },
  {
   "cell_type": "code",
   "execution_count": null,
   "metadata": {},
   "outputs": [],
   "source": [
    "# Saving indeces where the light curve \n",
    "# length/duration is zero.\n",
    "\n",
    "Zero_Lenth_lc = []\n",
    "for i in range (len(Lc_len)):\n",
    "    \n",
    "    if Lc_len[i] == 0: \n",
    "        Zero_Lenth_lc.append(i)\n",
    "        \n",
    "# Checking the indices in obtained above\n",
    "# in the original data\n",
    "\n",
    "d[Zero_Lenth_lc[0]] \n",
    "\n",
    "print('Number of transients = {} according to the code above'.format(len(unique_ID) - len(Zero_Lenth_lc)))"
   ]
  },
  {
   "cell_type": "code",
   "execution_count": null,
   "metadata": {},
   "outputs": [],
   "source": []
  },
  {
   "cell_type": "code",
   "execution_count": null,
   "metadata": {},
   "outputs": [],
   "source": []
  }
 ],
 "metadata": {
  "kernelspec": {
   "display_name": "Python 3",
   "language": "python",
   "name": "python3"
  },
  "language_info": {
   "codemirror_mode": {
    "name": "ipython",
    "version": 3
   },
   "file_extension": ".py",
   "mimetype": "text/x-python",
   "name": "python",
   "nbconvert_exporter": "python",
   "pygments_lexer": "ipython3",
   "version": "3.7.4"
  }
 },
 "nbformat": 4,
 "nbformat_minor": 2
}
